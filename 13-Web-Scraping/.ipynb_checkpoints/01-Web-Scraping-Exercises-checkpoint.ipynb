{
 "cells": [
  {
   "cell_type": "markdown",
   "metadata": {},
   "source": [
    "___\n",
    "\n",
    "<a href='https://www.udemy.com/user/joseportilla/'><img src='../Pierian_Data_Logo.png'/></a>\n",
    "___\n",
    "<center><em>Content Copyright by Pierian Data</em></center>"
   ]
  },
  {
   "cell_type": "markdown",
   "metadata": {},
   "source": [
    "# Web Scraping Exercises \n",
    "\n",
    "## Complete the Tasks Below"
   ]
  },
  {
   "cell_type": "markdown",
   "metadata": {},
   "source": [
    "**TASK: Import any libraries you think you'll need to scrape a website.**"
   ]
  },
  {
   "cell_type": "code",
   "execution_count": 1,
   "metadata": {},
   "outputs": [],
   "source": [
    "import requests\n",
    "import bs4"
   ]
  },
  {
   "cell_type": "markdown",
   "metadata": {},
   "source": [
    "**TASK: Use requests library and BeautifulSoup to connect to http://quotes.toscrape.com/ and get the HMTL text from the homepage.**"
   ]
  },
  {
   "cell_type": "code",
   "execution_count": 54,
   "metadata": {},
   "outputs": [],
   "source": [
    "result = requests.get(\"http://quotes.toscrape.com/\")\n",
    "soup = bs4.BeautifulSoup(result.text, 'lxml')"
   ]
  },
  {
   "cell_type": "code",
   "execution_count": 4,
   "metadata": {},
   "outputs": [
    {
     "data": {
      "text/plain": [
       "['html', <html lang=\"en\">\n",
       " <head>\n",
       " <meta charset=\"UTF-8\">\n",
       " <title>Quotes to Scrape</title>\n",
       " <link href=\"/static/bootstrap.min.css\" rel=\"stylesheet\">\n",
       " <link href=\"/static/main.css\" rel=\"stylesheet\">\n",
       " </link>\n",
       " <body>\n",
       " <div class=\"container\">\n",
       " <div class=\"row header-box\">\n",
       " <div class=\"col-md-8\">\n",
       " <h1>\n",
       " <a href=\"/\" style=\"text-decoration: none\">Quotes to Scrape</a>\n",
       " </h1>\n",
       " </div>\n",
       " <div class=\"col-md-4\">\n",
       " <p>\n",
       " <a href=\"/login\">Login</a>\n",
       " </p>\n",
       " </div>\n",
       " </div>\n",
       " <div class=\"row\">\n",
       " <div class=\"col-md-8\">\n",
       " <div class=\"quote\">itemtype=\"http://schema.org/CreativeWork\"&gt;\n",
       "         <span class=\"text\" itemprop=\"text\">“The world as we have created it is a process of our thinking. It cannot be changed without changing our thinking.”</span>\n",
       " <span>by <small class=\"author\" itemprop=\"author\">Albert Einstein</small>\n",
       " <a href=\"/author/Albert-Einstein\">(about)</a>\n",
       " </span>\n",
       " <div class=\"tags\">\n",
       "             Tags:\n",
       "             <meta class=\"keywords\" content=\"change,deep-thoughts,thinking,world\" itemprop=\"keywords\">/    &gt; \n",
       "             \n",
       "             <a class=\"tag\" href=\"/tag/change/page/1/\">change</a>\n",
       " <a class=\"tag\" href=\"/tag/deep-thoughts/page/1/\">deep-thoughts</a>\n",
       " <a class=\"tag\" href=\"/tag/thinking/page/1/\">thinking</a>\n",
       " <a class=\"tag\" href=\"/tag/world/page/1/\">world</a>\n",
       " </meta>\n",
       " </div>\n",
       " <div class=\"quote\">itemtype=\"http://schema.org/CreativeWork\"&gt;\n",
       "         <span class=\"text\" itemprop=\"text\">“It is our choices, Harry, that show what we truly are, far more than our abilities.”</span>\n",
       " <span>by <small class=\"author\" itemprop=\"author\">J.K. Rowling</small>\n",
       " <a href=\"/author/J-K-Rowling\">(about)</a>\n",
       " </span>\n",
       " <div class=\"tags\">\n",
       "             Tags:\n",
       "             <meta class=\"keywords\" content=\"abilities,choices\" itemprop=\"keywords\">/    &gt; \n",
       "             \n",
       "             <a class=\"tag\" href=\"/tag/abilities/page/1/\">abilities</a>\n",
       " <a class=\"tag\" href=\"/tag/choices/page/1/\">choices</a>\n",
       " </meta>\n",
       " </div>\n",
       " <div class=\"quote\">itemtype=\"http://schema.org/CreativeWork\"&gt;\n",
       "         <span class=\"text\" itemprop=\"text\">“There are only two ways to live your life. One is as though nothing is a miracle. The other is as though everything is a miracle.”</span>\n",
       " <span>by <small class=\"author\" itemprop=\"author\">Albert Einstein</small>\n",
       " <a href=\"/author/Albert-Einstein\">(about)</a>\n",
       " </span>\n",
       " <div class=\"tags\">\n",
       "             Tags:\n",
       "             <meta class=\"keywords\" content=\"inspirational,life,live,miracle,miracles\" itemprop=\"keywords\">/    &gt; \n",
       "             \n",
       "             <a class=\"tag\" href=\"/tag/inspirational/page/1/\">inspirational</a>\n",
       " <a class=\"tag\" href=\"/tag/life/page/1/\">life</a>\n",
       " <a class=\"tag\" href=\"/tag/live/page/1/\">live</a>\n",
       " <a class=\"tag\" href=\"/tag/miracle/page/1/\">miracle</a>\n",
       " <a class=\"tag\" href=\"/tag/miracles/page/1/\">miracles</a>\n",
       " </meta>\n",
       " </div>\n",
       " <div class=\"quote\">itemtype=\"http://schema.org/CreativeWork\"&gt;\n",
       "         <span class=\"text\" itemprop=\"text\">“The person, be it gentleman or lady, who has not pleasure in a good novel, must be intolerably stupid.”</span>\n",
       " <span>by <small class=\"author\" itemprop=\"author\">Jane Austen</small>\n",
       " <a href=\"/author/Jane-Austen\">(about)</a>\n",
       " </span>\n",
       " <div class=\"tags\">\n",
       "             Tags:\n",
       "             <meta class=\"keywords\" content=\"aliteracy,books,classic,humor\" itemprop=\"keywords\">/    &gt; \n",
       "             \n",
       "             <a class=\"tag\" href=\"/tag/aliteracy/page/1/\">aliteracy</a>\n",
       " <a class=\"tag\" href=\"/tag/books/page/1/\">books</a>\n",
       " <a class=\"tag\" href=\"/tag/classic/page/1/\">classic</a>\n",
       " <a class=\"tag\" href=\"/tag/humor/page/1/\">humor</a>\n",
       " </meta>\n",
       " </div>\n",
       " <div class=\"quote\">itemtype=\"http://schema.org/CreativeWork\"&gt;\n",
       "         <span class=\"text\" itemprop=\"text\">“Imperfection is beauty, madness is genius and it's better to be absolutely ridiculous than absolutely boring.”</span>\n",
       " <span>by <small class=\"author\" itemprop=\"author\">Marilyn Monroe</small>\n",
       " <a href=\"/author/Marilyn-Monroe\">(about)</a>\n",
       " </span>\n",
       " <div class=\"tags\">\n",
       "             Tags:\n",
       "             <meta class=\"keywords\" content=\"be-yourself,inspirational\" itemprop=\"keywords\">/    &gt; \n",
       "             \n",
       "             <a class=\"tag\" href=\"/tag/be-yourself/page/1/\">be-yourself</a>\n",
       " <a class=\"tag\" href=\"/tag/inspirational/page/1/\">inspirational</a>\n",
       " </meta>\n",
       " </div>\n",
       " <div class=\"quote\">itemtype=\"http://schema.org/CreativeWork\"&gt;\n",
       "         <span class=\"text\" itemprop=\"text\">“Try not to become a man of success. Rather become a man of value.”</span>\n",
       " <span>by <small class=\"author\" itemprop=\"author\">Albert Einstein</small>\n",
       " <a href=\"/author/Albert-Einstein\">(about)</a>\n",
       " </span>\n",
       " <div class=\"tags\">\n",
       "             Tags:\n",
       "             <meta class=\"keywords\" content=\"adulthood,success,value\" itemprop=\"keywords\">/    &gt; \n",
       "             \n",
       "             <a class=\"tag\" href=\"/tag/adulthood/page/1/\">adulthood</a>\n",
       " <a class=\"tag\" href=\"/tag/success/page/1/\">success</a>\n",
       " <a class=\"tag\" href=\"/tag/value/page/1/\">value</a>\n",
       " </meta>\n",
       " </div>\n",
       " <div class=\"quote\">itemtype=\"http://schema.org/CreativeWork\"&gt;\n",
       "         <span class=\"text\" itemprop=\"text\">“It is better to be hated for what you are than to be loved for what you are not.”</span>\n",
       " <span>by <small class=\"author\" itemprop=\"author\">André Gide</small>\n",
       " <a href=\"/author/Andre-Gide\">(about)</a>\n",
       " </span>\n",
       " <div class=\"tags\">\n",
       "             Tags:\n",
       "             <meta class=\"keywords\" content=\"life,love\" itemprop=\"keywords\">/    &gt; \n",
       "             \n",
       "             <a class=\"tag\" href=\"/tag/life/page/1/\">life</a>\n",
       " <a class=\"tag\" href=\"/tag/love/page/1/\">love</a>\n",
       " </meta>\n",
       " </div>\n",
       " <div class=\"quote\">itemtype=\"http://schema.org/CreativeWork\"&gt;\n",
       "         <span class=\"text\" itemprop=\"text\">“I have not failed. I've just found 10,000 ways that won't work.”</span>\n",
       " <span>by <small class=\"author\" itemprop=\"author\">Thomas A. Edison</small>\n",
       " <a href=\"/author/Thomas-A-Edison\">(about)</a>\n",
       " </span>\n",
       " <div class=\"tags\">\n",
       "             Tags:\n",
       "             <meta class=\"keywords\" content=\"edison,failure,inspirational,paraphrased\" itemprop=\"keywords\">/    &gt; \n",
       "             \n",
       "             <a class=\"tag\" href=\"/tag/edison/page/1/\">edison</a>\n",
       " <a class=\"tag\" href=\"/tag/failure/page/1/\">failure</a>\n",
       " <a class=\"tag\" href=\"/tag/inspirational/page/1/\">inspirational</a>\n",
       " <a class=\"tag\" href=\"/tag/paraphrased/page/1/\">paraphrased</a>\n",
       " </meta>\n",
       " </div>\n",
       " <div class=\"quote\">itemtype=\"http://schema.org/CreativeWork\"&gt;\n",
       "         <span class=\"text\" itemprop=\"text\">“A woman is like a tea bag; you never know how strong it is until it's in hot water.”</span>\n",
       " <span>by <small class=\"author\" itemprop=\"author\">Eleanor Roosevelt</small>\n",
       " <a href=\"/author/Eleanor-Roosevelt\">(about)</a>\n",
       " </span>\n",
       " <div class=\"tags\">\n",
       "             Tags:\n",
       "             <meta class=\"keywords\" content=\"misattributed-eleanor-roosevelt\" itemprop=\"keywords\">/    &gt; \n",
       "             \n",
       "             <a class=\"tag\" href=\"/tag/misattributed-eleanor-roosevelt/page/1/\">misattributed-eleanor-roosevelt</a>\n",
       " </meta>\n",
       " </div>\n",
       " <div class=\"quote\">itemtype=\"http://schema.org/CreativeWork\"&gt;\n",
       "         <span class=\"text\" itemprop=\"text\">“A day without sunshine is like, you know, night.”</span>\n",
       " <span>by <small class=\"author\" itemprop=\"author\">Steve Martin</small>\n",
       " <a href=\"/author/Steve-Martin\">(about)</a>\n",
       " </span>\n",
       " <div class=\"tags\">\n",
       "             Tags:\n",
       "             <meta class=\"keywords\" content=\"humor,obvious,simile\" itemprop=\"keywords\">/    &gt; \n",
       "             \n",
       "             <a class=\"tag\" href=\"/tag/humor/page/1/\">humor</a>\n",
       " <a class=\"tag\" href=\"/tag/obvious/page/1/\">obvious</a>\n",
       " <a class=\"tag\" href=\"/tag/simile/page/1/\">simile</a>\n",
       " </meta>\n",
       " </div>\n",
       " <nav>\n",
       " <ul class=\"pager\">\n",
       " <li class=\"next\">\n",
       " <a href=\"/page/2/\">Next <span aria-hidden=\"true\"/></a>\n",
       " </li>\n",
       " </ul>\n",
       " </nav>\n",
       " </div>\n",
       " <div class=\"col-md-4 tags-box\">\n",
       " <h2>Top Ten tags</h2>\n",
       " <span class=\"tag-item\">\n",
       " <a class=\"tag\" href=\"/tag/love/\" style=\"font-size: 28px\">love</a>\n",
       " </span>\n",
       " <span class=\"tag-item\">\n",
       " <a class=\"tag\" href=\"/tag/inspirational/\" style=\"font-size: 26px\">inspirational</a>\n",
       " </span>\n",
       " <span class=\"tag-item\">\n",
       " <a class=\"tag\" href=\"/tag/life/\" style=\"font-size: 26px\">life</a>\n",
       " </span>\n",
       " <span class=\"tag-item\">\n",
       " <a class=\"tag\" href=\"/tag/humor/\" style=\"font-size: 24px\">humor</a>\n",
       " </span>\n",
       " <span class=\"tag-item\">\n",
       " <a class=\"tag\" href=\"/tag/books/\" style=\"font-size: 22px\">books</a>\n",
       " </span>\n",
       " <span class=\"tag-item\">\n",
       " <a class=\"tag\" href=\"/tag/reading/\" style=\"font-size: 14px\">reading</a>\n",
       " </span>\n",
       " <span class=\"tag-item\">\n",
       " <a class=\"tag\" href=\"/tag/friendship/\" style=\"font-size: 10px\">friendship</a>\n",
       " </span>\n",
       " <span class=\"tag-item\">\n",
       " <a class=\"tag\" href=\"/tag/friends/\" style=\"font-size: 8px\">friends</a>\n",
       " </span>\n",
       " <span class=\"tag-item\">\n",
       " <a class=\"tag\" href=\"/tag/truth/\" style=\"font-size: 8px\">truth</a>\n",
       " </span>\n",
       " <span class=\"tag-item\">\n",
       " <a class=\"tag\" href=\"/tag/simile/\" style=\"font-size: 6px\">simile</a>\n",
       " </span>\n",
       " </div>\n",
       " </div>\n",
       " </div>\n",
       " <footer class=\"footer\">\n",
       " <div class=\"container\">\n",
       " <p class=\"text-muted\">\n",
       "                 Quotes by: <a href=\"https://www.goodreads.com/quotes\">GoodReads.com</a>\n",
       " </p>\n",
       " <p class=\"copyright\">\n",
       "                 Made with <span class=\"sh-red\">❤</span> by <a href=\"https://scrapinghub.com\">Scrapinghub</a>\n",
       " </p>\n",
       " </div>\n",
       " </footer>\n",
       " </div>\n",
       " </div></div></div></div></div></div></div></div></div></body></link></meta></head></html>]"
      ]
     },
     "execution_count": 4,
     "metadata": {},
     "output_type": "execute_result"
    }
   ],
   "source": [
    "soup.contents"
   ]
  },
  {
   "cell_type": "markdown",
   "metadata": {},
   "source": [
    "**TASK: Get the names of all the authors on the first page.**"
   ]
  },
  {
   "cell_type": "code",
   "execution_count": 58,
   "metadata": {},
   "outputs": [],
   "source": [
    "# CODE HERE\n",
    "authors = [author.text for author in soup.select('.author')]\n"
   ]
  },
  {
   "cell_type": "code",
   "execution_count": 59,
   "metadata": {},
   "outputs": [
    {
     "data": {
      "text/plain": [
       "{'Albert Einstein',\n",
       " 'André Gide',\n",
       " 'Eleanor Roosevelt',\n",
       " 'J.K. Rowling',\n",
       " 'Jane Austen',\n",
       " 'Marilyn Monroe',\n",
       " 'Steve Martin',\n",
       " 'Thomas A. Edison'}"
      ]
     },
     "execution_count": 59,
     "metadata": {},
     "output_type": "execute_result"
    }
   ],
   "source": [
    "set(authors)"
   ]
  },
  {
   "cell_type": "markdown",
   "metadata": {},
   "source": [
    "**TASK: Create a list of all the quotes on the first page.**"
   ]
  },
  {
   "cell_type": "code",
   "execution_count": 63,
   "metadata": {},
   "outputs": [],
   "source": [
    "#CODE HERE\n",
    "quotes = [quote.text for quote in soup.select('.text')]"
   ]
  },
  {
   "cell_type": "code",
   "execution_count": 15,
   "metadata": {},
   "outputs": [
    {
     "data": {
      "text/plain": [
       "['“The world as we have created it is a process of our thinking. It cannot be changed without changing our thinking.”',\n",
       " '“It is our choices, Harry, that show what we truly are, far more than our abilities.”',\n",
       " '“There are only two ways to live your life. One is as though nothing is a miracle. The other is as though everything is a miracle.”',\n",
       " '“The person, be it gentleman or lady, who has not pleasure in a good novel, must be intolerably stupid.”',\n",
       " \"“Imperfection is beauty, madness is genius and it's better to be absolutely ridiculous than absolutely boring.”\",\n",
       " '“Try not to become a man of success. Rather become a man of value.”',\n",
       " '“It is better to be hated for what you are than to be loved for what you are not.”',\n",
       " \"“I have not failed. I've just found 10,000 ways that won't work.”\",\n",
       " \"“A woman is like a tea bag; you never know how strong it is until it's in hot water.”\",\n",
       " '“A day without sunshine is like, you know, night.”']"
      ]
     },
     "execution_count": 15,
     "metadata": {},
     "output_type": "execute_result"
    }
   ],
   "source": [
    "quotes"
   ]
  },
  {
   "cell_type": "markdown",
   "metadata": {},
   "source": [
    "**TASK: Inspect the site and use Beautiful Soup to extract the top ten tags from the requests text shown on the top right from the home page (e.g Love,Inspirational,Life, etc...). HINT: Keep in mind there are also tags underneath each quote, try to find a class only present in the top right tags, perhaps check the span.**"
   ]
  },
  {
   "cell_type": "code",
   "execution_count": 66,
   "metadata": {},
   "outputs": [],
   "source": [
    "# CODE HERE\n",
    "tags = [tag.text for tag in soup.select('.tag-item')]"
   ]
  },
  {
   "cell_type": "code",
   "execution_count": 67,
   "metadata": {},
   "outputs": [
    {
     "name": "stdout",
     "output_type": "stream",
     "text": [
      "\n",
      "love\n",
      "\n",
      "\n",
      "inspirational\n",
      "\n",
      "\n",
      "life\n",
      "\n",
      "\n",
      "humor\n",
      "\n",
      "\n",
      "books\n",
      "\n",
      "\n",
      "reading\n",
      "\n",
      "\n",
      "friendship\n",
      "\n",
      "\n",
      "friends\n",
      "\n",
      "\n",
      "truth\n",
      "\n",
      "\n",
      "simile\n",
      "\n"
     ]
    }
   ],
   "source": [
    "for tag in tags: \n",
    "    print(tag)"
   ]
  },
  {
   "cell_type": "markdown",
   "metadata": {},
   "source": [
    "**TASK: Notice how there is more than one page, and subsequent pages look like this http://quotes.toscrape.com/page/2/. Use what you know about for loops and string concatenation to loop through all the pages and get all the unique authors on the website. Keep in mind there are many ways to achieve this, also note that you will need to somehow figure out how to check that your loop is on the last page with quotes. For debugging purposes, I will let you know that there are only 10 pages, so the last page is http://quotes.toscrape.com/page/10/, but try to create a loop that is robust enough that it wouldn't matter to know the amount of pages beforehand, perhaps use try/except for this, its up to you!**"
   ]
  },
  {
   "cell_type": "code",
   "execution_count": 77,
   "metadata": {},
   "outputs": [
    {
     "name": "stdout",
     "output_type": "stream",
     "text": [
      "Scraping page 1\n",
      "Scraping page 2\n",
      "Scraping page 3\n",
      "Scraping page 4\n",
      "Scraping page 5\n",
      "Scraping page 6\n",
      "Scraping page 7\n",
      "Scraping page 8\n",
      "Scraping page 9\n",
      "Scraping page 10\n",
      "Scraping page 11\n",
      "['J.K. Rowling', 'John Lennon', 'J.D. Salinger', 'W.C. Fields', 'George Carlin', 'Jimi Hendrix', 'Albert Einstein', 'Helen Keller', 'J.R.R. Tolkien', 'Mother Teresa', 'Thomas A. Edison', 'George Eliot', 'Haruki Murakami', 'Bob Marley', 'Dr. Seuss', 'Eleanor Roosevelt', 'Khaled Hosseini', 'Ralph Waldo Emerson', 'Alfred Tennyson', 'André Gide', 'Garrison Keillor', 'Steve Martin', 'Charles Bukowski', 'Terry Pratchett', 'Suzanne Collins', 'Harper Lee', 'Douglas Adams', 'Marilyn Monroe', 'Ayn Rand', 'Allen Saunders', 'Mark Twain', 'Stephenie Meyer', 'Alexandre Dumas fils', 'George Bernard Shaw', 'Elie Wiesel', 'William Nicholson', 'George R.R. Martin', 'James Baldwin', 'Jim Henson', \"Madeleine L'Engle\", 'Jorge Luis Borges', 'Charles M. Schulz', 'C.S. Lewis', 'Jane Austen', 'Martin Luther King Jr.', 'Ernest Hemingway', 'E.E. Cummings', 'J.M. Barrie', 'Friedrich Nietzsche', 'Pablo Neruda']\n"
     ]
    }
   ],
   "source": [
    "# CODE HERE\n",
    "all_authors = []\n",
    "i=1\n",
    "while(True):\n",
    "    #print(f'Scraping page {i}')\n",
    "    scrape_url=f'http://quotes.toscrape.com/page/{i}/'\n",
    "    result = requests.get(scrape_url)\n",
    "    soup = bs4.BeautifulSoup(result.text, 'lxml')\n",
    "    \n",
    "    found_authors = soup.select('.author')\n",
    "    if(len(found_authors)>0):\n",
    "        author_names = [author.text for author in found_authors]\n",
    "        all_authors.extend(author_names)\n",
    "    else:\n",
    "        break\n",
    "    \n",
    "    i+=1\n",
    "    \n",
    "    \n",
    "unique_authors = list(set(all_authors))\n",
    "print(unique_authors)"
   ]
  },
  {
   "cell_type": "markdown",
   "metadata": {},
   "source": [
    "There are lots of other potential solutions that are even more robust and flexible, the main idea is the same though, use a while loop to cycle through potential pages and have a break condition based on the invalid page."
   ]
  }
 ],
 "metadata": {
  "kernelspec": {
   "display_name": "Python 3",
   "language": "python",
   "name": "python3"
  },
  "language_info": {
   "codemirror_mode": {
    "name": "ipython",
    "version": 3
   },
   "file_extension": ".py",
   "mimetype": "text/x-python",
   "name": "python",
   "nbconvert_exporter": "python",
   "pygments_lexer": "ipython3",
   "version": "3.6.4"
  }
 },
 "nbformat": 4,
 "nbformat_minor": 2
}
